{
 "cells": [
  {
   "cell_type": "markdown",
   "id": "61f6477f",
   "metadata": {},
   "source": [
    "# Polynomial Regression"
   ]
  },
  {
   "cell_type": "markdown",
   "id": "9bc45299",
   "metadata": {},
   "source": [
    "### 공부 시간에 따른 시험 점수 (우등생)"
   ]
  },
  {
   "cell_type": "code",
   "execution_count": 1,
   "id": "da5f8c58",
   "metadata": {},
   "outputs": [],
   "source": [
    "import numpy as np\n",
    "import matplotlib.pyplot as plt\n",
    "import pandas as pd"
   ]
  },
  {
   "cell_type": "code",
   "execution_count": 2,
   "id": "f5b5a68d",
   "metadata": {},
   "outputs": [],
   "source": [
    "dataset = pd.read_csv('PolynomialRegressionData.csv')\n",
    "X = dataset.iloc[:, :-1].values\n",
    "y = dataset.iloc[:, -1].values"
   ]
  },
  {
   "cell_type": "markdown",
   "id": "3b9c55f1",
   "metadata": {},
   "source": [
    "### 단순 선형 회귀 (Simple Linear Regression)"
   ]
  },
  {
   "cell_type": "code",
   "execution_count": 3,
   "id": "f2517945",
   "metadata": {},
   "outputs": [
    {
     "data": {
      "text/plain": [
       "LinearRegression()"
      ]
     },
     "execution_count": 3,
     "metadata": {},
     "output_type": "execute_result"
    }
   ],
   "source": [
    "from sklearn.linear_model import LinearRegression\n",
    "reg = LinearRegression()\n",
    "reg.fit(X, y)"
   ]
  },
  {
   "cell_type": "markdown",
   "id": "cc923e93",
   "metadata": {},
   "source": [
    "### 데이터 시각화 (전체)"
   ]
  },
  {
   "cell_type": "code",
   "execution_count": 4,
   "id": "10573430",
   "metadata": {},
   "outputs": [
    {
     "data": {
      "image/png": "[encoded data removed]",
      "text/plain": [
       "<Figure size 432x288 with 1 Axes>"
      ]
     },
     "metadata": {
      "needs_background": "light"
     },
     "output_type": "display_data"
    }
   ],
   "source": [
    "plt.scatter(X, y, color = 'blue')\n",
    "plt.plot(X, reg.predict(X), color = 'red')\n",
    "plt.title('Score by hours (genius)')\n",
    "plt.xlabel('hours')\n",
    "plt.ylabel('score')\n",
    "plt.show()"
   ]
  },
  {
   "cell_type": "code",
   "execution_count": 5,
   "id": "4499d8f6",
   "metadata": {},
   "outputs": [
    {
     "data": {
      "text/plain": [
       "0.8169296513411765"
      ]
     },
     "execution_count": 5,
     "metadata": {},
     "output_type": "execute_result"
    }
   ],
   "source": [
    "reg.score(X, y) # 전체 데이터를 통한 모델 평가"
   ]
  }
 ],
 "metadata": {
  "kernelspec": {
   "display_name": "Python 3",
   "language": "python",
   "name": "python3"
  },
  "language_info": {
   "codemirror_mode": {
    "name": "ipython",
    "version": 3
   },
   "file_extension": ".py",
   "mimetype": "text/x-python",
   "name": "python",
   "nbconvert_exporter": "python",
   "pygments_lexer": "ipython3",
   "version": "3.8.8"
  }
 },
 "nbformat": 4,
 "nbformat_minor": 5
}
