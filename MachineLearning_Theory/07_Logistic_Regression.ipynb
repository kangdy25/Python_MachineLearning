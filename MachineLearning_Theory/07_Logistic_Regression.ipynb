{
 "cells": [
  {
   "cell_type": "markdown",
   "id": "654a02d4",
   "metadata": {},
   "source": [
    "# Logistic Regression\n",
    "### 공부 시간에 따른 자격증 시험 합격 가능성"
   ]
  },
  {
   "cell_type": "code",
   "execution_count": 1,
   "id": "35ac3d78",
   "metadata": {},
   "outputs": [],
   "source": [
    "import numpy as np\n",
    "import matplotlib.pyplot as plt\n",
    "import pandas as pd"
   ]
  },
  {
   "cell_type": "code",
   "execution_count": 2,
   "id": "e2d7feb1",
   "metadata": {},
   "outputs": [],
   "source": [
    "dataset = pd.read_csv('LogisticRegressionData.csv')\n",
    "X = dataset.iloc[:, :-1].values\n",
    "y = dataset.iloc[:, -1].values"
   ]
  },
  {
   "cell_type": "markdown",
   "id": "c6e21c45",
   "metadata": {},
   "source": [
    "### 데이터 분리"
   ]
  },
  {
   "cell_type": "code",
   "execution_count": 3,
   "id": "1bf9e6db",
   "metadata": {},
   "outputs": [],
   "source": [
    "from sklearn.model_selection import train_test_split\n",
    "X_train, X_test, y_train, y_test = train_test_split(X, y, test_size = 0.2, random_state = 0)"
   ]
  },
  {
   "cell_type": "markdown",
   "id": "1f55c168",
   "metadata": {},
   "source": [
    "### 학습 (로지스틱 회귀 모델)"
   ]
  },
  {
   "cell_type": "code",
   "execution_count": 4,
   "id": "b65550f7",
   "metadata": {},
   "outputs": [
    {
     "data": {
      "text/plain": [
       "LogisticRegression()"
      ]
     },
     "execution_count": 4,
     "metadata": {},
     "output_type": "execute_result"
    }
   ],
   "source": [
    "from sklearn.linear_model import LogisticRegression\n",
    "classifier = LogisticRegression()\n",
    "classifier.fit(X_train, y_train)"
   ]
  },
  {
   "cell_type": "markdown",
   "id": "98eebb5a",
   "metadata": {},
   "source": [
    "### 6시간 공부했을 때 예측?"
   ]
  },
  {
   "cell_type": "code",
   "execution_count": 5,
   "id": "12f1e159",
   "metadata": {},
   "outputs": [
    {
     "data": {
      "text/plain": [
       "array([1], dtype=int64)"
      ]
     },
     "execution_count": 5,
     "metadata": {},
     "output_type": "execute_result"
    }
   ],
   "source": [
    "classifier.predict([[6]])"
   ]
  },
  {
   "cell_type": "code",
   "execution_count": 8,
   "id": "87e25d49",
   "metadata": {},
   "outputs": [
    {
     "data": {
      "text/plain": [
       "array([[0.14150735, 0.85849265]])"
      ]
     },
     "execution_count": 8,
     "metadata": {},
     "output_type": "execute_result"
    }
   ],
   "source": [
    "classifier.predict_proba([[6]])"
   ]
  },
  {
   "cell_type": "markdown",
   "id": "0f09a89b",
   "metadata": {},
   "source": [
    "### 4시간 공부했을 때 예측?"
   ]
  },
  {
   "cell_type": "code",
   "execution_count": 7,
   "id": "0b90a366",
   "metadata": {},
   "outputs": [
    {
     "data": {
      "text/plain": [
       "array([0], dtype=int64)"
      ]
     },
     "execution_count": 7,
     "metadata": {},
     "output_type": "execute_result"
    }
   ],
   "source": [
    "classifier.predict([[4]])"
   ]
  },
  {
   "cell_type": "code",
   "execution_count": 9,
   "id": "9e85c64d",
   "metadata": {},
   "outputs": [
    {
     "data": {
      "text/plain": [
       "array([[0.6249966, 0.3750034]])"
      ]
     },
     "execution_count": 9,
     "metadata": {},
     "output_type": "execute_result"
    }
   ],
   "source": [
    "classifier.predict_proba([[4]])"
   ]
  },
  {
   "cell_type": "markdown",
   "id": "e984cc57",
   "metadata": {},
   "source": [
    "### 분류 결과 예측 (테스트 세트)"
   ]
  },
  {
   "cell_type": "code",
   "execution_count": 10,
   "id": "6fb821d1",
   "metadata": {},
   "outputs": [
    {
     "data": {
      "text/plain": [
       "array([1, 0, 1, 1], dtype=int64)"
      ]
     },
     "execution_count": 10,
     "metadata": {},
     "output_type": "execute_result"
    }
   ],
   "source": [
    "y_pred = classifier.predict(X_test)\n",
    "y_pred"
   ]
  },
  {
   "cell_type": "code",
   "execution_count": 11,
   "id": "7ddead87",
   "metadata": {},
   "outputs": [
    {
     "data": {
      "text/plain": [
       "array([1, 0, 1, 0], dtype=int64)"
      ]
     },
     "execution_count": 11,
     "metadata": {},
     "output_type": "execute_result"
    }
   ],
   "source": [
    "y_test"
   ]
  },
  {
   "cell_type": "code",
   "execution_count": 12,
   "id": "391f4fe0",
   "metadata": {},
   "outputs": [
    {
     "data": {
      "text/plain": [
       "array([[ 8.6],\n",
       "       [ 1.2],\n",
       "       [10. ],\n",
       "       [ 4.5]])"
      ]
     },
     "execution_count": 12,
     "metadata": {},
     "output_type": "execute_result"
    }
   ],
   "source": [
    "X_test"
   ]
  },
  {
   "cell_type": "code",
   "execution_count": 13,
   "id": "7244545a",
   "metadata": {},
   "outputs": [
    {
     "data": {
      "text/plain": [
       "0.75"
      ]
     },
     "execution_count": 13,
     "metadata": {},
     "output_type": "execute_result"
    }
   ],
   "source": [
    "classifier.score(X_test, y_test)"
   ]
  },
  {
   "cell_type": "markdown",
   "id": "91a321b2",
   "metadata": {},
   "source": [
    "### 데이터 시각화 (훈련 세트)"
   ]
  },
  {
   "cell_type": "code",
   "execution_count": 15,
   "id": "f432577e",
   "metadata": {},
   "outputs": [
    {
     "data": {
      "text/plain": [
       "array([0.5, 0.6, 0.7, 0.8, 0.9, 1. , 1.1, 1.2, 1.3, 1.4, 1.5, 1.6, 1.7,\n",
       "       1.8, 1.9, 2. , 2.1, 2.2, 2.3, 2.4, 2.5, 2.6, 2.7, 2.8, 2.9, 3. ,\n",
       "       3.1, 3.2, 3.3, 3.4, 3.5, 3.6, 3.7, 3.8, 3.9, 4. , 4.1, 4.2, 4.3,\n",
       "       4.4, 4.5, 4.6, 4.7, 4.8, 4.9, 5. , 5.1, 5.2, 5.3, 5.4, 5.5, 5.6,\n",
       "       5.7, 5.8, 5.9, 6. , 6.1, 6.2, 6.3, 6.4, 6.5, 6.6, 6.7, 6.8, 6.9,\n",
       "       7. , 7.1, 7.2, 7.3, 7.4, 7.5, 7.6, 7.7, 7.8, 7.9, 8. , 8.1, 8.2,\n",
       "       8.3, 8.4, 8.5, 8.6, 8.7, 8.8, 8.9, 9. , 9.1, 9.2, 9.3, 9.4, 9.5,\n",
       "       9.6, 9.7, 9.8, 9.9])"
      ]
     },
     "execution_count": 15,
     "metadata": {},
     "output_type": "execute_result"
    }
   ],
   "source": [
    "X_range = np.arange(min(X), max(X), 0.1)\n",
    "X_range"
   ]
  },
  {
   "cell_type": "code",
   "execution_count": 16,
   "id": "6a39d78b",
   "metadata": {},
   "outputs": [
    {
     "data": {
      "text/plain": [
       "array([[0.01035705, 0.01161247, 0.01301807, 0.0145913 , 0.01635149,\n",
       "        0.01832008, 0.02052073, 0.02297953, 0.02572521, 0.02878929,\n",
       "        0.03220626, 0.03601375, 0.04025264, 0.04496719, 0.05020505,\n",
       "        0.05601722, 0.06245802, 0.06958479, 0.07745757, 0.08613861,\n",
       "        0.09569165, 0.10618106, 0.11767067, 0.13022241, 0.14389468,\n",
       "        0.15874043, 0.17480509, 0.19212422, 0.2107211 , 0.23060425,\n",
       "        0.25176509, 0.27417574, 0.29778732, 0.32252874, 0.34830616,\n",
       "        0.3750034 , 0.40248315, 0.43058927, 0.45914989, 0.48798142,\n",
       "        0.51689314, 0.54569221, 0.57418876, 0.60220088, 0.6295591 ,\n",
       "        0.65611024, 0.68172044, 0.70627722, 0.72969059, 0.75189324,\n",
       "        0.77283994, 0.79250621, 0.81088652, 0.82799203, 0.84384828,\n",
       "        0.85849265, 0.871972  , 0.88434036, 0.89565683, 0.90598377,\n",
       "        0.91538521, 0.92392546, 0.93166808, 0.93867499, 0.9450058 ,\n",
       "        0.95071738, 0.95586346, 0.96049453, 0.96465764, 0.96839647,\n",
       "        0.97175136, 0.97475939, 0.97745455, 0.97986786, 0.9820276 ,\n",
       "        0.98395944, 0.98568665, 0.9872303 , 0.98860939, 0.98984107,\n",
       "        0.9909408 , 0.99192244, 0.99279849, 0.99358014, 0.99427745,\n",
       "        0.9948994 , 0.99545406, 0.99594865, 0.99638963, 0.99678276,\n",
       "        0.99713321, 0.99744558, 0.997724  , 0.99797213, 0.99819325]])"
      ]
     },
     "execution_count": 16,
     "metadata": {},
     "output_type": "execute_result"
    }
   ],
   "source": [
    "p = 1 / (1 + np.exp(-(classifier.coef_ * X_range + classifier.intercept_)))\n",
    "p"
   ]
  },
  {
   "cell_type": "code",
   "execution_count": 17,
   "id": "51f39a27",
   "metadata": {},
   "outputs": [
    {
     "data": {
      "text/plain": [
       "(1, 95)"
      ]
     },
     "execution_count": 17,
     "metadata": {},
     "output_type": "execute_result"
    }
   ],
   "source": [
    "p.shape"
   ]
  },
  {
   "cell_type": "code",
   "execution_count": 18,
   "id": "baf772d2",
   "metadata": {},
   "outputs": [
    {
     "data": {
      "text/plain": [
       "(95,)"
      ]
     },
     "execution_count": 18,
     "metadata": {},
     "output_type": "execute_result"
    }
   ],
   "source": [
    "X_range.shape"
   ]
  },
  {
   "cell_type": "code",
   "execution_count": 19,
   "id": "57f1af72",
   "metadata": {},
   "outputs": [
    {
     "data": {
      "text/plain": [
       "(95,)"
      ]
     },
     "execution_count": 19,
     "metadata": {},
     "output_type": "execute_result"
    }
   ],
   "source": [
    "p = p.reshape(-1)\n",
    "p.shape"
   ]
  },
  {
   "cell_type": "code",
   "execution_count": 23,
   "id": "4c186955",
   "metadata": {},
   "outputs": [
    {
     "data": {
      "image/png": "[encoded data removed]",
      "text/plain": [
       "<Figure size 432x288 with 1 Axes>"
      ]
     },
     "metadata": {
      "needs_background": "light"
     },
     "output_type": "display_data"
    }
   ],
   "source": [
    "plt.scatter(X_train, y_train, color = 'blue')\n",
    "plt.plot(X_range, p, color = 'red')\n",
    "plt.plot(X_range, np.full(len(X_range), 0.5), color = 'green')\n",
    "plt.title('Probability by hours')\n",
    "plt.xlabel('hours')\n",
    "plt.ylabel('P')\n",
    "plt.show()"
   ]
  },
  {
   "cell_type": "markdown",
   "id": "57e7ef27",
   "metadata": {},
   "source": [
    "### 데이터 시각화 (테스트 세트)"
   ]
  },
  {
   "cell_type": "code",
   "execution_count": 24,
   "id": "62ef7414",
   "metadata": {},
   "outputs": [
    {
     "data": {
      "image/png": "[encoded data removed]",
      "text/plain": [
       "<Figure size 432x288 with 1 Axes>"
      ]
     },
     "metadata": {
      "needs_background": "light"
     },
     "output_type": "display_data"
    }
   ],
   "source": [
    "plt.scatter(X_test, y_test, color = 'blue')\n",
    "plt.plot(X_range, p, color = 'red')\n",
    "plt.plot(X_range, np.full(len(X_range), 0.5), color = 'green')\n",
    "plt.title('Probability by hours (test)')\n",
    "plt.xlabel('hours')\n",
    "plt.ylabel('P')\n",
    "plt.show()"
   ]
  },
  {
   "cell_type": "code",
   "execution_count": 25,
   "id": "3d3c0bb8",
   "metadata": {},
   "outputs": [
    {
     "data": {
      "text/plain": [
       "array([[0.48310686, 0.51689314]])"
      ]
     },
     "execution_count": 25,
     "metadata": {},
     "output_type": "execute_result"
    }
   ],
   "source": [
    "classifier.predict_proba([[4.5]])"
   ]
  },
  {
   "cell_type": "markdown",
   "id": "6f7b9c6f",
   "metadata": {},
   "source": [
    "### 혼동 행렬 (Confusion Matrix)"
   ]
  },
  {
   "cell_type": "code",
   "execution_count": 27,
   "id": "eb21a751",
   "metadata": {},
   "outputs": [
    {
     "data": {
      "text/plain": [
       "array([[1, 1],\n",
       "       [0, 2]], dtype=int64)"
      ]
     },
     "execution_count": 27,
     "metadata": {},
     "output_type": "execute_result"
    }
   ],
   "source": [
    "from sklearn.metrics import confusion_matrix\n",
    "cm = confusion_matrix(y_test, y_pred)\n",
    "cm"
   ]
  },
  {
   "cell_type": "code",
   "execution_count": null,
   "id": "be296272",
   "metadata": {},
   "outputs": [],
   "source": []
  }
 ],
 "metadata": {
  "kernelspec": {
   "display_name": "Python 3",
   "language": "python",
   "name": "python3"
  },
  "language_info": {
   "codemirror_mode": {
    "name": "ipython",
    "version": 3
   },
   "file_extension": ".py",
   "mimetype": "text/x-python",
   "name": "python",
   "nbconvert_exporter": "python",
   "pygments_lexer": "ipython3",
   "version": "3.8.8"
  }
 },
 "nbformat": 4,
 "nbformat_minor": 5
}
